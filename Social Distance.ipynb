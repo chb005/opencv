{
 "cells": [
  {
   "cell_type": "code",
   "execution_count": 1,
   "metadata": {},
   "outputs": [],
   "source": [
    "import cv2\n",
    "from scipy.spatial import distance as dist"
   ]
  },
  {
   "cell_type": "code",
   "execution_count": 2,
   "metadata": {},
   "outputs": [],
   "source": [
    "cap = cv2.VideoCapture(0)"
   ]
  },
  {
   "cell_type": "code",
   "execution_count": 3,
   "metadata": {},
   "outputs": [],
   "source": [
    "face_model = cv2.CascadeClassifier('Haarcascades/haarcascade_frontalface_default.xml')"
   ]
  },
  {
   "cell_type": "code",
   "execution_count": 4,
   "metadata": {},
   "outputs": [],
   "source": [
    "while True:\n",
    "    status , photo = cap.read() \n",
    "    face_cor = face_model.detectMultiScale(photo)\n",
    "    l = len(face_cor)\n",
    "    photo = cv2.putText(photo, str(len(face_cor))+\" Face\", (50, 50), cv2.FONT_HERSHEY_SIMPLEX,1, (255, 0, 0) , 2, cv2.LINE_AA) \n",
    "    stack_x = [] \n",
    "    stack_y = []\n",
    "    stack_x_print = [] \n",
    "    stack_y_print = []\n",
    "    global D\n",
    "    \n",
    "    if len(face_cor) == 0:\n",
    "        pass\n",
    "    \n",
    "    else:\n",
    "        for i in range(0,len(face_cor)):\n",
    "            x1 = face_cor[i][0]\n",
    "            y1 = face_cor[i][1]\n",
    "            x2 = face_cor[i][0] + face_cor[i][2]\n",
    "            y2 = face_cor[i][1] + face_cor[i][3]\n",
    "            \n",
    "             \n",
    "            mid_x = int((x1+x2)/2)\n",
    "            mid_y = int((y1+y2)/2)\n",
    "            stack_x.append(mid_x)\n",
    "            stack_y.append(mid_y)\n",
    "            stack_x_print.append(mid_x)\n",
    "            stack_y_print.append(mid_y)\n",
    "            \n",
    "            photo = cv2.circle(photo, (mid_x, mid_y), 3 , [255,0,0] , -1) \n",
    "            photo = cv2.rectangle(photo , (x1, y1) , (x2,y2) , [0,255,0] , 2)\n",
    "        \n",
    "        if len(face_cor) == 2:\n",
    "            D = int(dist.euclidean((stack_x.pop(), stack_y.pop()), (stack_x.pop(), stack_y.pop())))\n",
    "            photo = cv2.line(photo, (stack_x_print.pop(), stack_y_print.pop()), (stack_x_print.pop(), stack_y_print.pop()), [0,0,255], 2)\n",
    "        else:\n",
    "            D = 0\n",
    "        \n",
    "        if D<250 and D!=0:\n",
    "            photo = cv2.putText(photo, \"!!Move Away!\", (100,120), cv2.FONT_HERSHEY_SIMPLEX,2, [0,0,255] , 4)\n",
    "            \n",
    "        photo = cv2.putText(photo, str(D/10) + \" cm\", (300, 50), cv2.FONT_HERSHEY_SIMPLEX,  \n",
    "                   1, (255, 0, 0) , 2, cv2.LINE_AA)\n",
    "        \n",
    "        cv2.imshow('Social Distance Checker' , photo)\n",
    "        if cv2.waitKey(1) & 0xFF == ord('q'):\n",
    "            break\n",
    "            \n",
    "cap.release()\n",
    "cv2.destroyAllWindows()\n",
    "\n"
   ]
  },
  {
   "cell_type": "code",
   "execution_count": null,
   "metadata": {},
   "outputs": [],
   "source": []
  },
  {
   "cell_type": "code",
   "execution_count": null,
   "metadata": {},
   "outputs": [],
   "source": []
  }
 ],
 "metadata": {
  "kernelspec": {
   "display_name": "Python 3",
   "language": "python",
   "name": "python3"
  },
  "language_info": {
   "codemirror_mode": {
    "name": "ipython",
    "version": 3
   },
   "file_extension": ".py",
   "mimetype": "text/x-python",
   "name": "python",
   "nbconvert_exporter": "python",
   "pygments_lexer": "ipython3",
   "version": "3.7.1"
  }
 },
 "nbformat": 4,
 "nbformat_minor": 2
}
