{
 "cells": [
  {
   "cell_type": "code",
   "execution_count": 10,
   "metadata": {},
   "outputs": [],
   "source": [
    "import numpy as np\n",
    "import cv2\n",
    "\n",
    "# use CascadeClassifier function to where our classifier (XML file format-HAAR) is stored\n",
    "facing_classifier = cv2.CascadeClassifier('Haarcascades/haarcascade_frontalface_default.xml')\n",
    "\n",
    "# Load our image using imread\n",
    "atlaji = cv2.imread('images/atalaji.jpg')\n",
    "\n",
    "#convert it to grayscale\n",
    "gray = cv2.cvtColor(atlaji, cv2.COLOR_BGR2GRAY)\n",
    "\n",
    "# This classifier returns the Region Of Interest of the detected face as a tuple\n",
    "# interested in top left coordinate and the bottom right coordiantes\n",
    "newface = facing_classifier.detectMultiScale(gray, 1.3, 5)\n",
    "\n",
    "# When no faces detected, facing_classifier returns empty tuple\n",
    "if newface is ():\n",
    "    print(\"No faces found\")\n",
    "\n",
    "#Iterate through our faces array using for and draw a rectangle on ROI\n",
    "# for each face in newface\n",
    "for (x,y,w,h) in newface:\n",
    "    cv2.rectangle(atlaji, (x,y), (x+w,y+h), (127,0,255), 2)\n",
    "    cv2.imshow(\"Atalji's face\", atlaji)\n",
    "    cv2.waitKey(0)\n",
    "    \n",
    "cv2.destroyAllWindows()"
   ]
  },
  {
   "cell_type": "code",
   "execution_count": null,
   "metadata": {},
   "outputs": [],
   "source": []
  }
 ],
 "metadata": {
  "kernelspec": {
   "display_name": "Python 3",
   "language": "python",
   "name": "python3"
  },
  "language_info": {
   "codemirror_mode": {
    "name": "ipython",
    "version": 3
   },
   "file_extension": ".py",
   "mimetype": "text/x-python",
   "name": "python",
   "nbconvert_exporter": "python",
   "pygments_lexer": "ipython3",
   "version": "3.7.1"
  }
 },
 "nbformat": 4,
 "nbformat_minor": 4
}
