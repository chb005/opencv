{
 "cells": [
  {
   "cell_type": "code",
   "execution_count": null,
   "metadata": {},
   "outputs": [],
   "source": [
    "import cv2\n",
    "\n",
    "face_cascade = cv2.CascadeClassifier('Haarcascades/haarcascade_frontalface_default.xml')\n",
    "eye_cascade = cv2.CascadeClassifier('Haarcascades/haarcascade_eye.xml')\n",
    "\n",
    "\n",
    "def detect_face_eye(gray, frame):\n",
    "    faces_img = face_cascade.detectMultiScale(gray, 1.2, 5)\n",
    "    for (a, b, w, h) in faces_img:\n",
    "        cv2.rectangle(frame, (a, b), (a+w, b+h), (125,95,255), 2)\n",
    "        roi_gray = gray[b:b+h, a:a+w]\n",
    "        roi_color = frame[b:b+h, a:a+w]\n",
    "        eyes_img = eye_cascade.detectMultiScale(roi_gray, 1.3, 3)\n",
    "        for (ea, eb, ew, eh) in eyes_img:\n",
    "            cv2.rectangle(roi_color, (ea, eb), (ea+ew, eb+eh), (190, 175, 225), 2)\n",
    "    return frame\n",
    "\n",
    "video_capture = cv2.VideoCapture(0)\n",
    "while True:\n",
    "    _, frame = video_capture.read()\n",
    "    gray = cv2.cvtColor(frame, cv2.COLOR_BGR2GRAY)\n",
    "    box = detect_face_eye(gray, frame)\n",
    "    cv2.imshow('live Vid', box)\n",
    "    if cv2.waitKey(1) & 0xFF == ord('f'):\n",
    "        break\n",
    "video_capture.release()\n",
    "cv2.destroyAllWindows()"
   ]
  },
  {
   "cell_type": "code",
   "execution_count": null,
   "metadata": {},
   "outputs": [],
   "source": []
  },
  {
   "cell_type": "code",
   "execution_count": null,
   "metadata": {},
   "outputs": [],
   "source": []
  }
 ],
 "metadata": {
  "kernelspec": {
   "display_name": "Python 3",
   "language": "python",
   "name": "python3"
  },
  "language_info": {
   "codemirror_mode": {
    "name": "ipython",
    "version": 3
   },
   "file_extension": ".py",
   "mimetype": "text/x-python",
   "name": "python",
   "nbconvert_exporter": "python",
   "pygments_lexer": "ipython3",
   "version": "3.7.1"
  }
 },
 "nbformat": 4,
 "nbformat_minor": 4
}
