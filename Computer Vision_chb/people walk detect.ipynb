{
 "cells": [
  {
   "cell_type": "markdown",
   "metadata": {},
   "source": [
    "# human body detection using opencv\n"
   ]
  },
  {
   "cell_type": "code",
   "execution_count": 4,
   "metadata": {},
   "outputs": [],
   "source": [
    "import cv2\n",
    "import numpy as np\n",
    "\n",
    "\n",
    "humanbody_classifier = cv2.CascadeClassifier('Haarcascades\\haarcascade_fullbody.xml')\n",
    "\n",
    "\n",
    "store_vid = cv2.VideoCapture('images/people_walk.avi')\n",
    "\n",
    "\n",
    "while store_vid.isOpened():\n",
    "    \n",
    "    \n",
    "    ret, frame = store_vid.read()\n",
    "   \n",
    "\n",
    "    gray = cv2.cvtColor(frame, cv2.COLOR_BGR2GRAY)\n",
    "    \n",
    "    human = humanbody_classifier.detectMultiScale(gray, 1.2, 3)\n",
    "    \n",
    "\n",
    "    for (a,b,w,h) in human:\n",
    "        cv2.rectangle(frame, (a, b), (a+w, b+h), (152, 177, 235), 2)\n",
    "        cv2.imshow('walking people', frame)\n",
    "\n",
    "    if cv2.waitKey(1) & 0xFF == ord('f'):\n",
    "        break\n",
    "\n",
    "store_vid.release()\n",
    "cv2.destroyAllWindows()"
   ]
  },
  {
   "cell_type": "code",
   "execution_count": null,
   "metadata": {},
   "outputs": [],
   "source": []
  }
 ],
 "metadata": {
  "kernelspec": {
   "display_name": "Python 3",
   "language": "python",
   "name": "python3"
  },
  "language_info": {
   "codemirror_mode": {
    "name": "ipython",
    "version": 3
   },
   "file_extension": ".py",
   "mimetype": "text/x-python",
   "name": "python",
   "nbconvert_exporter": "python",
   "pygments_lexer": "ipython3",
   "version": "3.7.1"
  }
 },
 "nbformat": 4,
 "nbformat_minor": 4
}
