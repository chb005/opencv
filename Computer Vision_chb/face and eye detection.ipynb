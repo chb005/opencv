{
 "cells": [
  {
   "cell_type": "code",
   "execution_count": 39,
   "metadata": {},
   "outputs": [],
   "source": [
    "import numpy as np\n",
    "import cv2\n",
    " \n",
    "facing_classifier = cv2.CascadeClassifier('Haarcascades/haarcascade_frontalface_default.xml')\n",
    "eyes_classifier = cv2.CascadeClassifier('Haarcascades/haarcascade_eye.xml')\n",
    " \n",
    "atalji = cv2.imread('images/TRump.jpg')\n",
    "gray = cv2.cvtColor(atalji, cv2.COLOR_BGR2GRAY)\n",
    "\n",
    "faces = facing_classifier.detectMultiScale(gray, 1.3, 5)\n",
    "\n",
    "# It will return empty when there is no face.\n",
    "if faces is ():\n",
    "    print(\"No Face Recognize\")\n",
    "\n",
    "for (a,b,w,h) in faces:\n",
    "    cv2.rectangle(atalji,(a,b),(a+w,b+h),(185,120,140),2)\n",
    "    cv2.imshow('Atalji face',atalji)\n",
    "    cv2.waitKey(0)\n",
    "    rointe_gray = gray[b:b+h, a:a+w]\n",
    "    rointe_color = atalji[a:a+h, a:a+w]\n",
    "    eyes = eyes_classifier.detectMultiScale(rointe_gray)\n",
    "    for (ea,eb,ew,eh) in eyes:\n",
    "        cv2.rectangle(rointe_color,(ea,eb),(ea+ew,eb+eh),(56,190,80),2)\n",
    "        cv2.imshow('Atalji face',atalji)\n",
    "        cv2.waitKey(0)\n",
    "    \n",
    "cv2.destroyAllWindows()"
   ]
  },
  {
   "cell_type": "code",
   "execution_count": null,
   "metadata": {},
   "outputs": [],
   "source": []
  },
  {
   "cell_type": "code",
   "execution_count": null,
   "metadata": {},
   "outputs": [],
   "source": []
  }
 ],
 "metadata": {
  "kernelspec": {
   "display_name": "Python 3",
   "language": "python",
   "name": "python3"
  },
  "language_info": {
   "codemirror_mode": {
    "name": "ipython",
    "version": 3
   },
   "file_extension": ".py",
   "mimetype": "text/x-python",
   "name": "python",
   "nbconvert_exporter": "python",
   "pygments_lexer": "ipython3",
   "version": "3.7.1"
  }
 },
 "nbformat": 4,
 "nbformat_minor": 4
}
